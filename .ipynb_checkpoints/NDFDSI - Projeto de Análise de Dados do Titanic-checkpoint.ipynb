{
 "cells": [
  {
   "cell_type": "markdown",
   "metadata": {},
   "source": [
    "# Analisando os Dados dos Passageiros do Titanic"
   ]
  },
  {
   "cell_type": "markdown",
   "metadata": {},
   "source": [
    "O RMS Titanic foi um navio de passageiros britânico operado pela White Star Line e construído pelos estaleiros da Harland and Wolff em Belfast. Foi a segunda embarcação da Classe Olympic de transatlânticos depois do RMS Olympic e seguido pelo HMHS Britannic.\n",
    "O Titanic foi pensado para ser o navio mais luxuoso e mais seguro de sua época, gerando lendas que era supostamente \"inafundável\".\n",
    "Ele colidiu com um iceberg às 23h40min do dia 14 de abril e afundou na madrugada do dia seguinte com mais de 1500 pessoas a bordo, sendo um dos maiores desastres marítimos em tempos de paz de toda a história. Seu naufrágio destacou vários pontos fracos de seu projeto, deficiências nos procedimentos de evacuação de emergência e falhas nas regulamentações marítimas da época.\n",
    "\n",
    "fonte:[wikipedia](https://pt.wikipedia.org/wiki/RMS_Titanic)\n",
    "\n",
    "Este documento visa analisar um conjunto de dados referente aos passageiros do navio Titanic, os dados utilizados são\n",
    "apenas uma amostra, não correspondem a totalidade de passageiros.\n",
    "\n",
    "Irei mostrar todas as etapas necessárias para a análise.\n",
    "* Questionamento.\n",
    "* Limpeza de dados.\n",
    "* Desenvolvimento das questões.\n",
    "* Conclusão.\n",
    "\n",
    "### Base de dados\n",
    "Esta base de dados foram obtidas do site [Kaggle](https://www.kaggle.com/c/titanic/data)"
   ]
  },
  {
   "cell_type": "markdown",
   "metadata": {},
   "source": [
    "## 1 - Questionamento"
   ]
  },
  {
   "cell_type": "markdown",
   "metadata": {},
   "source": [
    "Este projeto tem como foco obter conclusões que ajudem a sanar as questões que serão listadas a seguir:\n",
    "* Qual a média de idade dos passageiros?\n",
    "* Qual a média de idade por classe social e genêro dos sobreviventes?\n",
    "* Qual é a classe econômica predominante?\n",
    "* Portos de embarque por classe social?\n",
    "* Entre os sobreviventes, qual o sexo predominou?"
   ]
  },
  {
   "cell_type": "markdown",
   "metadata": {},
   "source": [
    "## 2 - Limpeza dos Dados"
   ]
  },
  {
   "cell_type": "code",
   "execution_count": 1,
   "metadata": {},
   "outputs": [],
   "source": [
    "# importanto as bibliotecas necessárias.\n",
    "import pandas as pd\n",
    "import numpy as np\n",
    "import matplotlib.pyplot as plt\n",
    "import seaborn as sns\n",
    "% matplotlib inline\n",
    "\n",
    "# atribuindo a leitura do arquivo a uma variavél.\n",
    "df = pd.read_csv('titanic-data-6.csv')"
   ]
  },
  {
   "cell_type": "code",
   "execution_count": 2,
   "metadata": {},
   "outputs": [
    {
     "name": "stdout",
     "output_type": "stream",
     "text": [
      "<class 'pandas.core.frame.DataFrame'>\n",
      "RangeIndex: 891 entries, 0 to 890\n",
      "Data columns (total 12 columns):\n",
      "PassengerId    891 non-null int64\n",
      "Survived       891 non-null int64\n",
      "Pclass         891 non-null int64\n",
      "Name           891 non-null object\n",
      "Sex            891 non-null object\n",
      "Age            714 non-null float64\n",
      "SibSp          891 non-null int64\n",
      "Parch          891 non-null int64\n",
      "Ticket         891 non-null object\n",
      "Fare           891 non-null float64\n",
      "Cabin          204 non-null object\n",
      "Embarked       889 non-null object\n",
      "dtypes: float64(2), int64(5), object(5)\n",
      "memory usage: 83.6+ KB\n"
     ]
    }
   ],
   "source": [
    "# visualizando as informações do data frame.\n",
    "df.info()"
   ]
  },
  {
   "cell_type": "code",
   "execution_count": 3,
   "metadata": {},
   "outputs": [
    {
     "data": {
      "text/html": [
       "<div>\n",
       "<style scoped>\n",
       "    .dataframe tbody tr th:only-of-type {\n",
       "        vertical-align: middle;\n",
       "    }\n",
       "\n",
       "    .dataframe tbody tr th {\n",
       "        vertical-align: top;\n",
       "    }\n",
       "\n",
       "    .dataframe thead th {\n",
       "        text-align: right;\n",
       "    }\n",
       "</style>\n",
       "<table border=\"1\" class=\"dataframe\">\n",
       "  <thead>\n",
       "    <tr style=\"text-align: right;\">\n",
       "      <th></th>\n",
       "      <th>PassengerId</th>\n",
       "      <th>Survived</th>\n",
       "      <th>Pclass</th>\n",
       "      <th>Name</th>\n",
       "      <th>Sex</th>\n",
       "      <th>Age</th>\n",
       "      <th>SibSp</th>\n",
       "      <th>Parch</th>\n",
       "      <th>Ticket</th>\n",
       "      <th>Fare</th>\n",
       "      <th>Cabin</th>\n",
       "      <th>Embarked</th>\n",
       "    </tr>\n",
       "  </thead>\n",
       "  <tbody>\n",
       "    <tr>\n",
       "      <th>0</th>\n",
       "      <td>1</td>\n",
       "      <td>0</td>\n",
       "      <td>3</td>\n",
       "      <td>Braund, Mr. Owen Harris</td>\n",
       "      <td>male</td>\n",
       "      <td>22.0</td>\n",
       "      <td>1</td>\n",
       "      <td>0</td>\n",
       "      <td>A/5 21171</td>\n",
       "      <td>7.2500</td>\n",
       "      <td>NaN</td>\n",
       "      <td>S</td>\n",
       "    </tr>\n",
       "    <tr>\n",
       "      <th>1</th>\n",
       "      <td>2</td>\n",
       "      <td>1</td>\n",
       "      <td>1</td>\n",
       "      <td>Cumings, Mrs. John Bradley (Florence Briggs Th...</td>\n",
       "      <td>female</td>\n",
       "      <td>38.0</td>\n",
       "      <td>1</td>\n",
       "      <td>0</td>\n",
       "      <td>PC 17599</td>\n",
       "      <td>71.2833</td>\n",
       "      <td>C85</td>\n",
       "      <td>C</td>\n",
       "    </tr>\n",
       "    <tr>\n",
       "      <th>2</th>\n",
       "      <td>3</td>\n",
       "      <td>1</td>\n",
       "      <td>3</td>\n",
       "      <td>Heikkinen, Miss. Laina</td>\n",
       "      <td>female</td>\n",
       "      <td>26.0</td>\n",
       "      <td>0</td>\n",
       "      <td>0</td>\n",
       "      <td>STON/O2. 3101282</td>\n",
       "      <td>7.9250</td>\n",
       "      <td>NaN</td>\n",
       "      <td>S</td>\n",
       "    </tr>\n",
       "    <tr>\n",
       "      <th>3</th>\n",
       "      <td>4</td>\n",
       "      <td>1</td>\n",
       "      <td>1</td>\n",
       "      <td>Futrelle, Mrs. Jacques Heath (Lily May Peel)</td>\n",
       "      <td>female</td>\n",
       "      <td>35.0</td>\n",
       "      <td>1</td>\n",
       "      <td>0</td>\n",
       "      <td>113803</td>\n",
       "      <td>53.1000</td>\n",
       "      <td>C123</td>\n",
       "      <td>S</td>\n",
       "    </tr>\n",
       "    <tr>\n",
       "      <th>4</th>\n",
       "      <td>5</td>\n",
       "      <td>0</td>\n",
       "      <td>3</td>\n",
       "      <td>Allen, Mr. William Henry</td>\n",
       "      <td>male</td>\n",
       "      <td>35.0</td>\n",
       "      <td>0</td>\n",
       "      <td>0</td>\n",
       "      <td>373450</td>\n",
       "      <td>8.0500</td>\n",
       "      <td>NaN</td>\n",
       "      <td>S</td>\n",
       "    </tr>\n",
       "  </tbody>\n",
       "</table>\n",
       "</div>"
      ],
      "text/plain": [
       "   PassengerId  Survived  Pclass  \\\n",
       "0            1         0       3   \n",
       "1            2         1       1   \n",
       "2            3         1       3   \n",
       "3            4         1       1   \n",
       "4            5         0       3   \n",
       "\n",
       "                                                Name     Sex   Age  SibSp  \\\n",
       "0                            Braund, Mr. Owen Harris    male  22.0      1   \n",
       "1  Cumings, Mrs. John Bradley (Florence Briggs Th...  female  38.0      1   \n",
       "2                             Heikkinen, Miss. Laina  female  26.0      0   \n",
       "3       Futrelle, Mrs. Jacques Heath (Lily May Peel)  female  35.0      1   \n",
       "4                           Allen, Mr. William Henry    male  35.0      0   \n",
       "\n",
       "   Parch            Ticket     Fare Cabin Embarked  \n",
       "0      0         A/5 21171   7.2500   NaN        S  \n",
       "1      0          PC 17599  71.2833   C85        C  \n",
       "2      0  STON/O2. 3101282   7.9250   NaN        S  \n",
       "3      0            113803  53.1000  C123        S  \n",
       "4      0            373450   8.0500   NaN        S  "
      ]
     },
     "execution_count": 3,
     "metadata": {},
     "output_type": "execute_result"
    }
   ],
   "source": [
    "# Visualizando as 5 primeiras linhas do data frame.\n",
    "df.head()"
   ]
  },
  {
   "cell_type": "code",
   "execution_count": 4,
   "metadata": {},
   "outputs": [],
   "source": [
    "# excluindo as colunas que não geram conclusões\n",
    "df.drop(['PassengerId','Name','Ticket','Cabin'],axis=1,inplace=True)"
   ]
  },
  {
   "cell_type": "markdown",
   "metadata": {},
   "source": [
    "Aqui estou alterando as propriedade das tarifas para inteiro, usei o método de conversão pelo numpy porque o método 'astype' do pandas converte em int32, é uma questão de uniformidade somente."
   ]
  },
  {
   "cell_type": "code",
   "execution_count": 5,
   "metadata": {},
   "outputs": [],
   "source": [
    "df['Fare'] = np.int64(df['Fare'])"
   ]
  },
  {
   "cell_type": "code",
   "execution_count": 6,
   "metadata": {},
   "outputs": [
    {
     "name": "stdout",
     "output_type": "stream",
     "text": [
      "<class 'pandas.core.frame.DataFrame'>\n",
      "RangeIndex: 891 entries, 0 to 890\n",
      "Data columns (total 8 columns):\n",
      "Survived    891 non-null int64\n",
      "Pclass      891 non-null int64\n",
      "Sex         891 non-null object\n",
      "Age         714 non-null float64\n",
      "SibSp       891 non-null int64\n",
      "Parch       891 non-null int64\n",
      "Fare        891 non-null int64\n",
      "Embarked    889 non-null object\n",
      "dtypes: float64(1), int64(5), object(2)\n",
      "memory usage: 55.8+ KB\n"
     ]
    }
   ],
   "source": [
    "# visualizando para confirmar as mudanças e exclusões.\n",
    "df.info()"
   ]
  },
  {
   "cell_type": "markdown",
   "metadata": {},
   "source": [
    "Neste ponto estou criando e preparando um variável para ser usada quando solicitar análises com a coluna **\"Age\"**, pois nesta coluna falta bastante item e não quero usar **dropna** em toda a base de dados, isso excluiria muitas linha e poderia comprometer a análise."
   ]
  },
  {
   "cell_type": "code",
   "execution_count": 7,
   "metadata": {},
   "outputs": [],
   "source": [
    "# criando um cópia do data frama para tratar os dados de 'Age'.\n",
    "df_age = df.copy()\n",
    "\n",
    "# apagando a coluna 'Embarked'.\n",
    "df_age.drop(['Embarked'],axis=1,inplace=True)\n",
    "\n",
    "# apagando as linhas com elementos nulos.\n",
    "df_age.dropna(inplace=True)\n",
    "\n",
    "# trocando a propriedade de 'Age' para inteiro.\n",
    "df_age['Age'] = np.int64(df_age['Age'])"
   ]
  },
  {
   "cell_type": "markdown",
   "metadata": {},
   "source": [
    "Novamente estou criando um variável para ser usada com a coluna **\"Embarked\"**, pois não quero descartar muitos dados. "
   ]
  },
  {
   "cell_type": "code",
   "execution_count": 8,
   "metadata": {},
   "outputs": [],
   "source": [
    "# criando uma cópia do data frame.\n",
    "df_emb = df.copy()\n",
    "\n",
    "# apagando a coluna 'Age'.\n",
    "df_emb.drop(['Age'],axis=1,inplace=True)\n",
    "\n",
    "# apagando todas a linhas que possuem elementos nulos.\n",
    "df_emb.dropna(inplace=True)"
   ]
  },
  {
   "cell_type": "markdown",
   "metadata": {},
   "source": [
    "Para o desensolvimento das questões usarei gráficos, então resolvi criar funções para o modelos de **Barra** e **Pizza**."
   ]
  },
  {
   "cell_type": "code",
   "execution_count": 9,
   "metadata": {},
   "outputs": [],
   "source": [
    "def plotting_bars(data_frame:(dict,list,tuple),title_plot:str,x_label:str,y_label:str): \n",
    "    \n",
    "    \"\"\" \n",
    "    Está função irá plotar um gráfico barra de acordo com o dado que for inputado.\n",
    "    Argumentos:\n",
    "        data_frame: lista, dicionário ou tupla inputado.\n",
    "        title_plot: título do gráfico a ser plotado.\n",
    "        x_label: nome da aba do gráfico no eixo x.\n",
    "        y_label: nome da aba do gráfico no eixo y.\n",
    "    Retorna:\n",
    "        Um gráfico em barra com as devidas colunas referentes as variáveis do data_frame.\n",
    "    \"\"\"\n",
    "    \n",
    "    plt.xlabel(x_label,fontsize=12);\n",
    "    plt.ylabel(y_label,fontsize=12);    \n",
    "    return data_frame.plot(kind=\"bar\",title=title_plot,figsize=(8,6));  "
   ]
  },
  {
   "cell_type": "code",
   "execution_count": 10,
   "metadata": {},
   "outputs": [],
   "source": [
    "def plotting_pie(data_frame:(list,dict,tuple),title_plot:str,explode_distance:float):\n",
    "    \n",
    "    \"\"\"\n",
    "    Está função irá plotar um gráfico pizza de acordo com o dado que for inputado.\n",
    "    Argumentoos:\n",
    "        data_frame: lista,dicionário ou tupla inputado.\n",
    "        title_plot: título do gráfico a ser plotado.\n",
    "        expplode_distance: distância entre as fatias separadas entre si.\n",
    "    Retorna:\n",
    "        Um gráfico em pizza com as variavéis em fatias e suas respectivas porcentagens.\n",
    "    \"\"\"\n",
    "    \n",
    "    plt.title(title_plot)\n",
    "    return data_frame.plot(kind='pie',figsize=(7,7),explode=explode_distance,autopct='%1.0f%%',shadow=True);"
   ]
  },
  {
   "cell_type": "markdown",
   "metadata": {},
   "source": [
    "## 3 - Desenvolvimento das Questões"
   ]
  },
  {
   "cell_type": "markdown",
   "metadata": {},
   "source": [
    "### Pergunta 1: Qual a média de idade dos passageiros que embarcaram no návio?"
   ]
  },
  {
   "cell_type": "code",
   "execution_count": 11,
   "metadata": {},
   "outputs": [
    {
     "name": "stdout",
     "output_type": "stream",
     "text": [
      "Idade Média dos Passageiros: 29.7\n"
     ]
    },
    {
     "data": {
      "image/png": "[encoded data removed]",
      "text/plain": [
       "<Figure size 576x432 with 1 Axes>"
      ]
     },
     "metadata": {},
     "output_type": "display_data"
    }
   ],
   "source": [
    "# calculando a idade média dos passageiros e usando a função round para arredondar.\n",
    "print('Idade Média dos Passageiros:',round(df_age['Age'].mean(),1))\n",
    "\n",
    "# plotando um histograma da coluna 'Age'.\n",
    "df_age['Age'].plot(kind='hist',title='Média de Idade',figsize=(8,6));"
   ]
  },
  {
   "cell_type": "markdown",
   "metadata": {},
   "source": [
    "### Pergunta 2  - Qual a média de idade por classe social e genêro do sobreviventes?"
   ]
  },
  {
   "cell_type": "code",
   "execution_count": 12,
   "metadata": {},
   "outputs": [
    {
     "name": "stdout",
     "output_type": "stream",
     "text": [
      "Bilhete: \n",
      " 1 = Primeira Classe \n",
      " 2 = Segunda Classe \n",
      " 3 = Terceira Classe\n",
      "\n",
      " Sex     Pclass\n",
      "female  1         34.9\n",
      "        2         28.1\n",
      "        3         19.3\n",
      "male    1         36.2\n",
      "        2         15.9\n",
      "        3         22.3\n",
      "Name: Age, dtype: float64 \n",
      "\n"
     ]
    },
    {
     "data": {
      "text/plain": [
       "<matplotlib.axes._subplots.AxesSubplot at 0x4c9a090b00>"
      ]
     },
     "execution_count": 12,
     "metadata": {},
     "output_type": "execute_result"
    },
    {
     "data": {
      "image/png": "[encoded data removed]",
      "text/plain": [
       "<Figure size 504x504 with 1 Axes>"
      ]
     },
     "metadata": {},
     "output_type": "display_data"
    }
   ],
   "source": [
    "# filtrando por sobreviventes.\n",
    "survived_age = df_age.query('Survived == \"1\"')\n",
    "\n",
    "# agrupando os sobreviventes por genêro, classe e obtendo a média de idade arrendondada.\n",
    "survived_group = round(survived_age.groupby(['Sex','Pclass']).mean()['Age'],1)\n",
    "print('Bilhete: \\n 1 = Primeira Classe \\n 2 = Segunda Classe \\n 3 = Terceira Classe')\n",
    "print(\"\\n\", survived_group,\"\\n\")\n",
    "\n",
    "# plotando um gráfico pizza.\n",
    "plotting_pie(survived_group,'Idade Média por Classe Social e Genêro',(0.05,0.05,0.05,0.05,0.05,0.05))"
   ]
  },
  {
   "cell_type": "markdown",
   "metadata": {},
   "source": [
    "### Pergunta 3: Qual é a classe economica predominante?"
   ]
  },
  {
   "cell_type": "code",
   "execution_count": 13,
   "metadata": {},
   "outputs": [
    {
     "name": "stdout",
     "output_type": "stream",
     "text": [
      "Bilhete: \n",
      " 1 = Primeira Classe \n",
      " 2 = Segunda Classe \n",
      " 3 = Terceira Classe \n",
      "\n",
      "3    491\n",
      "1    216\n",
      "2    184\n",
      "Name: Pclass, dtype: int64\n"
     ]
    },
    {
     "data": {
      "text/plain": [
       "<matplotlib.axes._subplots.AxesSubplot at 0x4c9a4e7320>"
      ]
     },
     "execution_count": 13,
     "metadata": {},
     "output_type": "execute_result"
    },
    {
     "data": {
      "image/png": "[encoded data removed]",
      "text/plain": [
       "<Figure size 576x432 with 1 Axes>"
      ]
     },
     "metadata": {},
     "output_type": "display_data"
    }
   ],
   "source": [
    "# contando os valores da coluna classe social.\n",
    "print('Bilhete: \\n 1 = Primeira Classe \\n 2 = Segunda Classe \\n 3 = Terceira Classe \\n')\n",
    "print(df['Pclass'].value_counts())\n",
    "\n",
    "# Usando a função para plotar um gráfico barra.\n",
    "plotting_bars(df['Pclass'].value_counts(),'Bilhete de Passagem','Tipo de Bilhete','Quantidade')"
   ]
  },
  {
   "cell_type": "markdown",
   "metadata": {},
   "source": [
    "### Pergunta 4: Cidades de Embarque por Classe Social."
   ]
  },
  {
   "cell_type": "markdown",
   "metadata": {},
   "source": [
    "* __Aspecto geral das localidades de embarque.__"
   ]
  },
  {
   "cell_type": "code",
   "execution_count": 14,
   "metadata": {},
   "outputs": [
    {
     "name": "stdout",
     "output_type": "stream",
     "text": [
      "Cidades: \n",
      " C = Cherbourg \n",
      " S = Southampton \n",
      " Q = Queenstown \n",
      "\n",
      "S    644\n",
      "C    168\n",
      "Q     77\n",
      "Name: Embarked, dtype: int64\n"
     ]
    },
    {
     "data": {
      "text/plain": [
       "<matplotlib.axes._subplots.AxesSubplot at 0x4c9a5528d0>"
      ]
     },
     "execution_count": 14,
     "metadata": {},
     "output_type": "execute_result"
    },
    {
     "data": {
      "image/png": "[encoded data removed]",
      "text/plain": [
       "<Figure size 576x432 with 1 Axes>"
      ]
     },
     "metadata": {},
     "output_type": "display_data"
    }
   ],
   "source": [
    "# contando os elementos da coluna 'Embarked'.\n",
    "print('Cidades: \\n C = Cherbourg \\n S = Southampton \\n Q = Queenstown \\n')\n",
    "print(df_emb['Embarked'].value_counts())\n",
    "\n",
    "#plotando o gráfico através da função\n",
    "plotting_bars(df_emb['Embarked'].value_counts(),'Cidade de Embarque','Cidades','Passageiros')"
   ]
  },
  {
   "cell_type": "markdown",
   "metadata": {},
   "source": [
    "* __3.1 - CHERBOURG__"
   ]
  },
  {
   "cell_type": "code",
   "execution_count": 15,
   "metadata": {},
   "outputs": [
    {
     "name": "stdout",
     "output_type": "stream",
     "text": [
      "Bilhete: \n",
      " 1 = Primeira Classe \n",
      " 2 = Segunda Classe \n",
      " 3 = Terceira Classe \n",
      "\n",
      "1    85\n",
      "3    66\n",
      "2    17\n",
      "Name: Pclass, dtype: int64\n"
     ]
    },
    {
     "data": {
      "text/plain": [
       "<matplotlib.axes._subplots.AxesSubplot at 0x4c9a5a70b8>"
      ]
     },
     "execution_count": 15,
     "metadata": {},
     "output_type": "execute_result"
    },
    {
     "data": {
      "image/png": "[encoded data removed]",
      "text/plain": [
       "<Figure size 576x432 with 1 Axes>"
      ]
     },
     "metadata": {},
     "output_type": "display_data"
    }
   ],
   "source": [
    "# filtrando os passageiros que embarcaram somente em cherbourg.\n",
    "cherbourg = df_emb.query('Embarked == \"C\"')\n",
    "\n",
    "# comparando os passageiros de cherbourg por classe social.\n",
    "print('Bilhete: \\n 1 = Primeira Classe \\n 2 = Segunda Classe \\n 3 = Terceira Classe \\n')\n",
    "print(cherbourg['Pclass'].value_counts())\n",
    "\n",
    "# plotando um gráfico barra para a contagem de passageiros por classe social.\n",
    "plotting_bars(cherbourg['Pclass'].value_counts(),'Bilhete em Cherbourg','Classe do Bilhete','Quantidade')"
   ]
  },
  {
   "cell_type": "markdown",
   "metadata": {},
   "source": [
    "* __3.2 - QUEENSTOWN__"
   ]
  },
  {
   "cell_type": "code",
   "execution_count": 16,
   "metadata": {},
   "outputs": [
    {
     "name": "stdout",
     "output_type": "stream",
     "text": [
      "Bilhete: \n",
      " 1 = Primeira Classe \n",
      " 2 = Segunda Classe \n",
      " 3 = Terceira Classe \n",
      "\n",
      "3    72\n",
      "2     3\n",
      "1     2\n",
      "Name: Pclass, dtype: int64\n"
     ]
    },
    {
     "data": {
      "text/plain": [
       "<matplotlib.axes._subplots.AxesSubplot at 0x4c99f2aa20>"
      ]
     },
     "execution_count": 16,
     "metadata": {},
     "output_type": "execute_result"
    },
    {
     "data": {
      "image/png": "[encoded data removed]",
      "text/plain": [
       "<Figure size 576x432 with 1 Axes>"
      ]
     },
     "metadata": {},
     "output_type": "display_data"
    }
   ],
   "source": [
    "# filtrando os passageiros que embarcaram somente em queenstown.\n",
    "queenstown = df_emb.query('Embarked == \"Q\"')\n",
    "\n",
    "print('Bilhete: \\n 1 = Primeira Classe \\n 2 = Segunda Classe \\n 3 = Terceira Classe \\n')\n",
    "print(queenstown['Pclass'].value_counts())\n",
    "\n",
    "# plotando um gráfico barra para mostrar a quantidade por grupo social\n",
    "plotting_bars(queenstown['Pclass'].value_counts(),'Bilhete em Queenstown','Classe do Bilhete','Quantidade')"
   ]
  },
  {
   "cell_type": "markdown",
   "metadata": {},
   "source": [
    "* __3.3 - SOUTHAMPTON__"
   ]
  },
  {
   "cell_type": "code",
   "execution_count": 17,
   "metadata": {},
   "outputs": [
    {
     "name": "stdout",
     "output_type": "stream",
     "text": [
      "Bilhete: \n",
      " 1 = Primeira Classe \n",
      " 2 = Segunda Classe \n",
      " 3 = Terceira Classe \n",
      "\n",
      "3    353\n",
      "2    164\n",
      "1    127\n",
      "Name: Pclass, dtype: int64\n"
     ]
    },
    {
     "data": {
      "text/plain": [
       "<matplotlib.axes._subplots.AxesSubplot at 0x4c9a66e940>"
      ]
     },
     "execution_count": 17,
     "metadata": {},
     "output_type": "execute_result"
    },
    {
     "data": {
      "image/png": "[encoded data removed]",
      "text/plain": [
       "<Figure size 576x432 with 1 Axes>"
      ]
     },
     "metadata": {},
     "output_type": "display_data"
    }
   ],
   "source": [
    "# filtrando os passageiros que somente embarcaram em southampton.\n",
    "southampton = df_emb.query('Embarked == \"S\"')\n",
    "\n",
    "# contando os passageiros de southampton por classe social.\n",
    "print('Bilhete: \\n 1 = Primeira Classe \\n 2 = Segunda Classe \\n 3 = Terceira Classe \\n')\n",
    "print(southampton['Pclass'].value_counts())\n",
    "\n",
    "# plotando os passageiros em gráfico de barra, mostrados por grupo social.\n",
    "plotting_bars(southampton['Pclass'].value_counts(),'Bilhete em Southampton','Classe do Bilhete','Quantidade')"
   ]
  },
  {
   "cell_type": "markdown",
   "metadata": {},
   "source": [
    "### Pergunta 5 - Entre os sobreviventes, qual o sexo predominou?"
   ]
  },
  {
   "cell_type": "code",
   "execution_count": 18,
   "metadata": {},
   "outputs": [
    {
     "name": "stdout",
     "output_type": "stream",
     "text": [
      "Gênero:\n",
      "female    233\n",
      "male      109\n",
      "Name: Sex, dtype: int64\n"
     ]
    },
    {
     "data": {
      "text/plain": [
       "<matplotlib.axes._subplots.AxesSubplot at 0x4c9a6b0518>"
      ]
     },
     "execution_count": 18,
     "metadata": {},
     "output_type": "execute_result"
    },
    {
     "data": {
      "image/png": "[encoded data removed]",
      "text/plain": [
       "<Figure size 504x504 with 1 Axes>"
      ]
     },
     "metadata": {},
     "output_type": "display_data"
    }
   ],
   "source": [
    "# filtrando os sobreviventes.\n",
    "survived = df.query('Survived == \"1\"')\n",
    "\n",
    "# contandos o numero de sobreviventes por sexo.\n",
    "print('Gênero:')\n",
    "print(survived['Sex'].value_counts())\n",
    "\n",
    "# plotando um gráfico pizza.\n",
    "plotting_pie(survived['Sex'].value_counts(),'Gênero dos Sobreviventes',(0,0.1))"
   ]
  },
  {
   "cell_type": "markdown",
   "metadata": {},
   "source": [
    "## 4 - Conclusão\n",
    "* _A média de idade dos passageiros é de 29 anos, grande maioria tinha idade entre 20 à 30 anos._\n",
    "* _A média de idade dos sobreviventes por classe social entre mulheres: 1ª classe é de 34 anos, 2ª classe 28 anos, 3ª classe 19 anos._\n",
    "* _A média de idade dos sobreviventes por classe social entre homens são: 1ª classe é de 36 anos, 2ª classe 15 anos, 3ª classe 22 anos._\n",
    "* _Os bilhetes mais vendidos foram o de 3ª classe, esta quantidade de passagens mostrou que a predominância social era de renda mais baixa._\n",
    "* _A cidade que mais pessoas embarcaram foi Southampton._\n",
    "* _Em Southamton a predominância foi de passagens 3ª classe, conclcuindo assim que esses passageiros pertenciam a classe baixa._\n",
    "* _Em Cherbourg, observou que a ocorrência maior são para passageiros de bilheres 1ª classe, relacionando assim a classe com poder aquisitivo maior._\n",
    "* _Em Queenstown, passagens de 3ª classe teve maior frequência._\n",
    "* _Entre os sobreviventes foi observado que cerca de 68% eram mulheres e 32% eram homens._\n",
    "\n",
    "### Limitações\n",
    "Foi identificado que existiam colunas que faltavam dados sobre alguns passageiros, essa colunas são: \"Age\",\"Cabin\" e \"Embarked\".\n",
    "\n",
    "Medida realizada:\n",
    "* Para a remoção dos dados nulos da coluna Age foi criado uma variável espeficica para evitar a perda de dados não desejados.\n",
    "* Aplicação parecida com a da coluna \"Age\" foi feita em \"Embarked\", assim evitando que dados fossem desperdiçados.\n",
    "* \"Cabin\", não há referência das posições das cabines, seria interessante saber a taxa de sobrevivência por local do barco.\n",
    "\n",
    "Coluna excluidas:\n",
    "\n",
    "* A coluna \"PassengerId\" foi excluida pois o próprio index do data frame já orienta quanto ao número de linhas.\n",
    "* \"Name\" foi retirada pois os nomes não são relevante nesses estudo.\n",
    "* \"Ticket\", se refere somente ao numero do bilhete, não produz insight neste estudo.\n",
    "* \"Cabin\", não há referência das posições das cabines, seria interessante saber a taxa de sobrevivência por local do barco.\n",
    "\n",
    "Também foram modificados propriedade de algumas colunas, como \"Age\" e \"Fare\",\n",
    "\n",
    "Algumas fontes foram úteis para desenvolvimento de parte dos código, são estas:\n",
    "* [Matplotlib.pyplot](https://matplotlib.org/api/_as_gen/matplotlib.pyplot.pie.html#matplotlib.pyplot.pie)\n",
    "* [Numpy](https://docs.scipy.org/doc/numpy/user/basics.types.html)\n",
    "* [Pandas](https://pandas.pydata.org/pandas-docs/stable/visualization.html)"
   ]
  }
 ],
 "metadata": {
  "kernelspec": {
   "display_name": "Python 3",
   "language": "python",
   "name": "python3"
  },
  "language_info": {
   "codemirror_mode": {
    "name": "ipython",
    "version": 3
   },
   "file_extension": ".py",
   "mimetype": "text/x-python",
   "name": "python",
   "nbconvert_exporter": "python",
   "pygments_lexer": "ipython3",
   "version": "3.6.6"
  }
 },
 "nbformat": 4,
 "nbformat_minor": 2
}
